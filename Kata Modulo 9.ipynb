{
 "cells": [
  {
   "cell_type": "markdown",
   "metadata": {},
   "source": [
    "## Actividad 1"
   ]
  },
  {
   "cell_type": "code",
   "execution_count": null,
   "metadata": {},
   "outputs": [],
   "source": [
    "#Actividad 1\n",
    "\n",
    "def combustible(t1 ,t2, t3):\n",
    "    cap=(t1+t2+t3)/3\n",
    "    return f\"\"\"La cantidad del tanque 1 es: {t1}%\n",
    "La cantidad del tanque 2 es: {t2}%\n",
    "La cantidad del tanque 3 es: {t3}%\"\"\"\n",
    "#El porcentaje promedio sobrante de combustible es: {cap}%\n",
    "\n",
    "print(combustible(20,50,30))\n"
   ]
  },
  {
   "cell_type": "code",
   "execution_count": null,
   "metadata": {},
   "outputs": [],
   "source": [
    "def promedio(val):\n",
    "    tot=sum(val)        #Suma de los valores ingresados\n",
    "    vt=len(val)         #Cantidad de valores en la lista que se creo\n",
    "    return tot/vt\n",
    "\n",
    "print(\"El valor promedio de el combustible es: \",promedio([20, 50, 30]))\n",
    "\n"
   ]
  },
  {
   "cell_type": "markdown",
   "metadata": {},
   "source": [
    "## Actividad 2"
   ]
  },
  {
   "cell_type": "code",
   "execution_count": null,
   "metadata": {},
   "outputs": [],
   "source": [
    "#Actividad 2\n",
    "\n",
    "def informe(destino, tl, *tiempo, **kw):\n",
    "\n",
    "    tv=sum(tiempo)\n",
    "    \n",
    "    return print(f\"\"\"\n",
    "                                Destino: {destino}\n",
    "                                Tiempo de prelanzamiento: {tl} minutos\n",
    "                                Tiempo de viaje: {tv} horas\n",
    "                                Cantidad de combustible en los tanques: {sum(kw.values())}L\"\"\")\n",
    "\n",
    "informe(\"Marte\", 30, 51,  ti=10000, td=25000)"
   ]
  },
  {
   "cell_type": "code",
   "execution_count": null,
   "metadata": {},
   "outputs": [],
   "source": [
    "def informe(destino, tl, *tiempo, **kw):\n",
    "\n",
    "    tv=sum(tiempo)\n",
    "    print(f\"\"\"\n",
    "        Destino: {destino}\n",
    "        Tiempo de prelanzamiento: {tl} minutos\n",
    "        Tiempo de viaje: {tv} horas\n",
    "        Cantidad de combustible en los tanques: {sum(kw.values())}L\"\"\")\n",
    "\n",
    "    for tanque, cantidad in kw.items():\n",
    "        print(f'        Cantidad de combustible en {tanque}: {cantidad}')\n",
    "  \n",
    "        \n",
    "\n",
    "\n",
    "informe(\"Marte\", 30, 51,  Tanque_izquierdo=10000, Tanque_derecho=25000)"
   ]
  }
 ],
 "metadata": {
  "interpreter": {
   "hash": "39e951a41283c3ee29b08a97914e717a8b083c44fa43136605635af5c82e4cfe"
  },
  "kernelspec": {
   "display_name": "Python 3.10.2 64-bit (system)",
   "language": "python",
   "name": "python3"
  },
  "language_info": {
   "codemirror_mode": {
    "name": "ipython",
    "version": 3
   },
   "file_extension": ".py",
   "mimetype": "text/x-python",
   "name": "python",
   "nbconvert_exporter": "python",
   "pygments_lexer": "ipython3",
   "version": "3.10.2"
  },
  "orig_nbformat": 4
 },
 "nbformat": 4,
 "nbformat_minor": 2
}
