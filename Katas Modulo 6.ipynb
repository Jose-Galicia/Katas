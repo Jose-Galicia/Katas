{
 "cells": [
  {
   "cell_type": "code",
   "execution_count": null,
   "metadata": {},
   "outputs": [],
   "source": [
    "#Actividad 1\n",
    "planets=['Mercurio','Venus','Tierra','Marte','Jupiter','Saturno','Urano','Neptuno']\n",
    "nump=len(planets)\n",
    "print('Cantidad de planetas sin contar a Pluton:', nump)\n",
    "\n",
    "planets.append('Pluton')\n",
    "nump=len(planets)\n",
    "print('Cantidad de planetas contando a Pluton:  ', nump,'\\nEl ultimo planeta contando a Pluton es:  ', planets[-1])\n"
   ]
  },
  {
   "cell_type": "code",
   "execution_count": null,
   "metadata": {},
   "outputs": [],
   "source": [
    "#Actividad 2\n",
    "planets=['Mercurio','Venus','Tierra','Marte','Jupiter','Saturno','Urano','Neptuno']\n",
    "nomp=input(\"Ingresa el nombre de un planeta con la primer letra en mayuscula\")\n",
    "sear = planets.index(nomp)                                                                 #Busca el planeta en la lista\n",
    "print(\"Planeta ingresado:\",nomp)\n",
    "pau = planets[0:sear]                                                                      #Slice\n",
    "print(\"Estos planetas estan mas cerca al sol que el que ingresaste:\",pau)\n",
    "print(\"Estos planetas estas mas lejanos al sol que el que ingresaste\",planets[sear+1:])    #Slice"
   ]
  }
 ],
 "metadata": {
  "interpreter": {
   "hash": "39e951a41283c3ee29b08a97914e717a8b083c44fa43136605635af5c82e4cfe"
  },
  "kernelspec": {
   "display_name": "Python 3.10.2 64-bit (system)",
   "language": "python",
   "name": "python3"
  },
  "language_info": {
   "codemirror_mode": {
    "name": "ipython",
    "version": 3
   },
   "file_extension": ".py",
   "mimetype": "text/x-python",
   "name": "python",
   "nbconvert_exporter": "python",
   "pygments_lexer": "ipython3",
   "version": "3.10.2"
  },
  "orig_nbformat": 4
 },
 "nbformat": 4,
 "nbformat_minor": 2
}
