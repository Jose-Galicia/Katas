{
 "cells": [
  {
   "cell_type": "markdown",
   "metadata": {},
   "source": [
    "## Uso de Traceback para buscar errores"
   ]
  },
  {
   "cell_type": "markdown",
   "metadata": {},
   "source": [
    "##Traceback"
   ]
  },
  {
   "cell_type": "code",
   "execution_count": null,
   "metadata": {},
   "outputs": [],
   "source": [
    "#Un traceback es el cuerpo del texto que puede apuntar al origen (y al final) de un error no controlado.\n",
    "#Cuando un programa sufre un error no controlado, aparece un traceback como salida.\n",
    "\n",
    "#Si intentamos en un notebook, abrir un archivo inexistente sucede lo siguiente: Traceback FileNotFoundError\n",
    "open(\"/path/to/mars.jpg\")\n",
    "\n",
    "#En primer lugar, el traceback menciona el orden de la salida.\n",
    "# Después, informa de que el archivo es stdin (entrada en el terminal interactivo) en la primera línea de la entrada.\n",
    "#El error es FileNotFoundError (el nombre de excepción), lo que significa que el archivo no existe o quizás el directorio correspondiente no existe.\n"
   ]
  },
  {
   "cell_type": "code",
   "execution_count": null,
   "metadata": {},
   "outputs": [],
   "source": [
    "#Se trata de una sola función main() que abre el archivo inexistente, como antes. Al final, esta función \n",
    "#usa un asistente de Python que indica al intérprete que ejecute la función main() cuando se \n",
    "#le llama en el terminal.\n",
    "\n",
    "#Se crea un nuevo archivo con el codigo siguiente y el nombre open.py\n",
    "def main():\n",
    "    open(\"/path/to/mars.jpg\")\n",
    "\n",
    "if __name__ == '__main__':\n",
    "    main()\n",
    "\n",
    "$ python3 open.py   #en gitbash\n",
    "#FileNotFoundError: [Errno 2] No such file or directory: '/path/to/mars.jpg'"
   ]
  },
  {
   "cell_type": "markdown",
   "metadata": {},
   "source": [
    "## Controlando las excepciones"
   ]
  },
  {
   "cell_type": "markdown",
   "metadata": {},
   "source": [
    "##Try y Except de los bloques"
   ]
  },
  {
   "cell_type": "code",
   "execution_count": null,
   "metadata": {},
   "outputs": [],
   "source": [
    "#Sabemos que, si no existe un archivo o directorio, se genera FileNotFoundError.\n",
    "#Si queremos controlar esa excepción, podemos hacerlo con un bloque try y except:\n",
    "\n",
    "#Es necesario dejar la tabulacion despues de try y except.\n",
    "\n",
    "try:\n",
    "    open('config.txt')                           #Agregamos código que tenga la posibilidad de producir una excepción.    \n",
    "except FileNotFoundError:\n",
    "    print(\"Couldn't find the config.txt file!\")  #Código que deba ejecutarse cuando se produce esa condición. \n",
    "#Couldn't find the config.txt file!\n",
    "\n",
    "#El bloque try y except, junto con un mensaje útil, evita un seguimiento \n",
    "#y sigue informando al usuario sobre el problema."
   ]
  },
  {
   "cell_type": "code",
   "execution_count": null,
   "metadata": {},
   "outputs": [],
   "source": [
    " #Nuevo archivo config.py\n",
    "#F\n",
    "\n",
    " #El archivo tiene código que busca y lee el archivo de configuración del sistema de navegación:\n",
    "def main():\n",
    "    try:\n",
    "        configuration = open('config.txt')\n",
    "    except FileNotFoundError:\n",
    "        print(\"Couldn't find the config.txt file!\")\n",
    "\n",
    "\n",
    "if __name__ == '__main__':\n",
    "    main()\n",
    "##Couldn't find the config.txt file!"
   ]
  },
  {
   "cell_type": "code",
   "execution_count": null,
   "metadata": {},
   "outputs": [],
   "source": [
    "#Actualizamos la funcion main()\n",
    "#NF\n",
    "\n",
    "def main():\n",
    "    try:\n",
    "        configuration = open('config.txt')\n",
    "    except Exception:\n",
    "        print(\"Couldn't find the config.txt file!\")\n",
    "\n",
    "#Ahora volvemos a ejecutar el código en el mismo lugar donde existe el archivo config.txt con permisos incorrectos:\n",
    "#$ python config.py\n",
    "#Couldn't find the config.txt file!\n",
    "\n",
    "#El archivo existe, pero tiene permisos diferentes y Python no puede leerlo. "
   ]
  },
  {
   "cell_type": "code",
   "execution_count": null,
   "metadata": {},
   "outputs": [],
   "source": [
    "#Se corrige el siguiente fragmento de codigo.\n",
    "#F\n",
    "\n",
    "#Revertiremos la detección de FileNotFoundError y luego agregamos otro bloque except para detectar PermissionError:\n",
    "def main():\n",
    "    try:\n",
    "        configuration = open('config.txt')\n",
    "    except FileNotFoundError:\n",
    "        print(\"Couldn't find the config.txt file!\")\n",
    "    except IsADirectoryError:\n",
    "        print(\"Found config.txt but it is a directory, couldn't read it\")\n",
    "    except PermissionError:\n",
    "        print(\"Found config.txt but couldn't read it\") \n",
    "\n",
    "#Se vuelve a ejecutar \n",
    "#$ python config.py\n",
    "#Found config.txt but couldn't read it\n"
   ]
  },
  {
   "cell_type": "code",
   "execution_count": null,
   "metadata": {},
   "outputs": [],
   "source": [
    "#Eliminamos el archivo config.txt para asegurarnos de que se alcanza el primer bloque except en su lugar:\n",
    "#$ rm -f config.txt                 #Gitbash\n",
    "#$ python config.py                 #Gitbash\n",
    "#Couldn't find the config.txt file!"
   ]
  },
  {
   "cell_type": "markdown",
   "metadata": {},
   "source": [
    "##Agrupar los errores"
   ]
  },
  {
   "cell_type": "code",
   "execution_count": null,
   "metadata": {},
   "outputs": [],
   "source": [
    "#Cuando los errores son de una naturaleza similar y no es necesario controlarlos individualmente, \n",
    "#puedes agrupar las excepciones como una usando paréntesis en la línea except. \n",
    "\n",
    "def main():\n",
    "    try:\n",
    "        configuration = open('config.txt')\n",
    "    except FileNotFoundError:\n",
    "        print(\"Couldn't find the config.txt file!\")\n",
    "    except IsADirectoryError:\n",
    "        print(\"Found config.txt but it is a directory, couldn't read it\")\n",
    "    except (BlockingIOError, TimeoutError):\n",
    "        print(\"Filesystem under heavy load, can't complete reading configuration file\")\n",
    "\n",
    "#Aunque podamos agrupar excepciones solo debes hacerlo cuando no sea necesario controlarlas individualmente.\n",
    "#"
   ]
  },
  {
   "cell_type": "markdown",
   "metadata": {},
   "source": [
    "##as error"
   ]
  },
  {
   "cell_type": "code",
   "execution_count": null,
   "metadata": {},
   "outputs": [],
   "source": [
    "#Acceder al error asociado a la excepción, debes actualizar la línea except para incluir la palabra clave as.\n",
    "\n",
    "try:\n",
    "     open(\"mars.jpg\")\n",
    "except FileNotFoundError as error:                          #error= ('mars.jpg')\n",
    "    print(\"got a problem trying to read the file:\", error)  #Imprime el error como variable\n",
    "\n",
    "#En este caso, as error significa que error se convierte en una variable con el objeto de excepción como valor.\n",
    "#De esta manera se puede acceder directamente a los atributos del error\n",
    "\n",
    "#got a problem trying to read the file: [Errno 2] No such file or directory: 'mars.jpg'"
   ]
  },
  {
   "cell_type": "markdown",
   "metadata": {},
   "source": [
    "##[Errno]=numero de error"
   ]
  },
  {
   "cell_type": "code",
   "execution_count": null,
   "metadata": {},
   "outputs": [],
   "source": [
    "#Otra razón para usar esta técnica es acceder directamente a los atributos del error.\n",
    "\n",
    "\n",
    "#El error en este caso es el numero 2 [Errno 2]\n",
    "try:\n",
    "    open(\"config.txt\")\n",
    "except OSError as error:                #Declara una variable donde se declarael objeto de excepción como valor.\n",
    "     if error.errno == 2:               #errno es el numero de error, si es igual a el declarado se muestra lo siguiente.\n",
    "         print(\"Couldn't find the config.txt file!\")\n",
    "     elif error.errno == 13:            #errno es el numero de error, si es igual a el declarado se muestra lo siguiente.\n",
    "         print(\"Found config.txt but couldn't read it\")\n",
    "\n",
    "#Couldn't find the config.txt file!"
   ]
  },
  {
   "cell_type": "markdown",
   "metadata": {},
   "source": [
    "## Generacion de excepciones"
   ]
  },
  {
   "cell_type": "markdown",
   "metadata": {},
   "source": [
    "##Ejemplo"
   ]
  },
  {
   "cell_type": "code",
   "execution_count": null,
   "metadata": {},
   "outputs": [],
   "source": [
    "#Es útil generar excepciones que permitan que otro código comprenda cuál es el problema.\n",
    "#Función que, con base al número de astronautas, pueda calcular la cantidad de agua quedará después de un día o más:\n",
    "\n",
    "def water_left(astronauts, water_left, days_left):\n",
    "    daily_usage = astronauts * 11\n",
    "    total_usage = daily_usage * days_left\n",
    "    total_water_left = water_left - total_usage\n",
    "    return f\"Total water left after {days_left} days is: {total_water_left} liters\"\n",
    "\n",
    "#PruProbemos con cinco astronautas, 100 litros de agua sobrante y dos días:\n",
    "water_left(5, 100, 2)                     #water_left(astronauts, water_left, days_left)\n",
    "'Total water left after 2 days is: -10 liters'\n"
   ]
  },
  {
   "cell_type": "markdown",
   "metadata": {},
   "source": [
    "##Generacion de Excepcion/Error"
   ]
  },
  {
   "cell_type": "code",
   "execution_count": null,
   "metadata": {},
   "outputs": [],
   "source": [
    "#Generar una excepción en la función water_left() para alertar de la condición de error:\n",
    "def water_left(astronauts, water_left, days_left):\n",
    "    daily_usage = astronauts * 11\n",
    "    total_usage = daily_usage * days_left\n",
    "    total_water_left = water_left - total_usage\n",
    "    if total_water_left < 0:                                            #Si es valor es mayor que 0 no genera la excepcion\n",
    "        raise RuntimeError(f\"There is not enough water for {astronauts} astronauts after {days_left} days!\")   #Raise genera excepciones/errores\n",
    "    return f\"Total water left after {days_left} days is: {total_water_left} liters\"     #Regresa la cadena de texto de la funcion\n",
    "\n",
    "water_left(5, 100, 2)       #water_left(astronauts, water_left, days_left)\n",
    "##water_left(astronauts, water_left, days_left)\n"
   ]
  },
  {
   "cell_type": "code",
   "execution_count": null,
   "metadata": {},
   "outputs": [],
   "source": [
    "#En el sistema de navegación, el código para señalar la alerta ahora puede usar RuntimeError para generar la alerta:\n",
    "try:\n",
    "    water_left(5, 100, 2)       #Manda a llamar a la funcion\n",
    "except RuntimeError as error:   #La excepcion RunTimeError declarada en la funcion raise se almacena en la variable error\n",
    "    print(error)                #Se imprime la cadena de texto que acompana la funcion raise con la excepcion RunTimeError"
   ]
  },
  {
   "cell_type": "code",
   "execution_count": null,
   "metadata": {},
   "outputs": [],
   "source": [
    "#La función water_left() también se puede actualizar para evitar el paso de tipos no admitidos.\n",
    "#Se intentan pasar argumentos que no sean enteros para comprobar la salidad del error\n",
    "\n",
    "water_left(\"3\", \"200\", None)                  #Al no pasar argumentos con los que pueda trabajar la funcion water_left genera una excepcion\n",
    "#TypeError: can't multiply sequence by non-int of type 'NoneType"
   ]
  },
  {
   "cell_type": "markdown",
   "metadata": {},
   "source": [
    "##Ejemplo de arriba parte 2"
   ]
  },
  {
   "cell_type": "code",
   "execution_count": null,
   "metadata": {},
   "outputs": [],
   "source": [
    "#Actualizaremos la función para que use TypeError, pero con un mensaje mejor:\n",
    "\n",
    "def water_left(astronauts, water_left, days_left):\n",
    "    for argument in [astronauts, water_left, days_left]:            #Genera lista de los argumentos que es iterable para usar con ciclo for\n",
    "        try:\n",
    "            # If argument is an int, the following operation will work\n",
    "            argument / 10\n",
    "        except TypeError:\n",
    "            # TypError will be raised only if it isn't the right type \n",
    "            # Raise the same exception but with a better error message\n",
    "            raise TypeError(f\"All arguments must be of type int, but received: '{argument}'\")   #Genera una excepcion si no se agregan argumentos de tipo int\n",
    "            \n",
    "    daily_usage = astronauts * 11\n",
    "    total_usage = daily_usage * days_left\n",
    "    total_water_left = water_left - total_usage\n",
    "\n",
    "    if total_water_left < 0:\n",
    "        raise RuntimeError(f\"There is not enough water for {astronauts} astronauts after {days_left} days!\")    #Genera una excepcion excepcion\n",
    "    return f\"Total water left after {days_left} days is: {total_water_left} liters\"                             #Valor que retorna de la funcion\n",
    "\n",
    "water_left(\"3\", \"200\", None)    #TypeError: All arguments must be of type int, but received: '3'\n",
    "#water_left(5, 100, 2)          #RuntimeError: There is not enough water for 5 astronauts after 2 days!"
   ]
  },
  {
   "cell_type": "code",
   "execution_count": null,
   "metadata": {},
   "outputs": [],
   "source": [
    "#Ahora volvemos a intentarlo para obtener un error mejor:\n",
    "\n",
    "water_left(\"3\", \"200\", None)\n",
    "\n",
    "#Excepcion/Erro 1 TypeError: unsupported operand type(s) for /: 'str' and 'int' \n",
    "#Excepcion/Erro 2 During handling of the preceding exception, another exception occurred:\n",
    "#Excepcion/Erro 3 TypeError: All arguments must be of type int, but received: '3'"
   ]
  }
 ],
 "metadata": {
  "interpreter": {
   "hash": "39e951a41283c3ee29b08a97914e717a8b083c44fa43136605635af5c82e4cfe"
  },
  "kernelspec": {
   "display_name": "Python 3.10.2 64-bit (system)",
   "language": "python",
   "name": "python3"
  },
  "language_info": {
   "codemirror_mode": {
    "name": "ipython",
    "version": 3
   },
   "file_extension": ".py",
   "mimetype": "text/x-python",
   "name": "python",
   "nbconvert_exporter": "python",
   "pygments_lexer": "ipython3",
   "version": "3.10.2"
  },
  "orig_nbformat": 4
 },
 "nbformat": 4,
 "nbformat_minor": 2
}
