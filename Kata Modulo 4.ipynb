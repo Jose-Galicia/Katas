{
 "cells": [
  {
   "cell_type": "code",
   "execution_count": null,
   "metadata": {},
   "outputs": [],
   "source": [
    "#Actividad 1\n",
    "text = \"\"\"Interesting facts about the Moon. The Moon is Earth's only satellite. There are several interesting facts about the Moon and how it affects life here on Earth. \n",
    "On average, the Moon moves 4cm away from the Earth every year. This yearly drift is not significant enough to cause immediate effects on Earth.\"\"\"\n",
    "kw=[\"average\", \"temperature\", \"distance\", \"C\"]\n",
    "parts = text.split('. ') #5\n",
    "#parts  \n",
    "\n",
    "print(\"Oracion que contiene las palabras clave: \")\n",
    "for item in parts:\n",
    "    for keyw in kw:\n",
    "        if keyw in item:\n",
    "            print(item)                         \n",
    "            print(item.replace('C', 'Celsius')) #Actualizacion de bucle para cambiar C a Celsius.      \n",
    "        break"
   ]
  },
  {
   "cell_type": "code",
   "execution_count": null,
   "metadata": {},
   "outputs": [],
   "source": [
    "#Actividad 2\n",
    "name = \"Ganimedes\"\n",
    "gravity = 0.00143 *1000 # in km/s2\n",
    "planet = \"Marte\"\n",
    "\n",
    "tit = f'Datos sobre la gravedad de la luna {name}'\n",
    "#print(f'{tit.title()}')\n",
    "\n",
    "multiline = f\"\"\"\\nNos encontramos en el planeta {planet},\n",
    "este planeta tiene una luna llamada {name} y\n",
    "su gravedad es {gravity} m/s2.\"\"\"\n",
    "#print(multiline)\n",
    "\n",
    "union=f\"\"\"{tit}\n",
    "{multiline}\"\"\"\n",
    "print(union)\n",
    "\n",
    "nunion=\"\"\"\\nGravity Facts about {name}\n",
    "-------------------------------------------------------------------------------\n",
    "Planet Name: {planet}\n",
    "Gravity on Ganymede: {gravity} m/s2\"\"\"\n",
    "print(nunion.format(name=name, planet=planet, gravity=gravity))"
   ]
  }
 ],
 "metadata": {
  "interpreter": {
   "hash": "39e951a41283c3ee29b08a97914e717a8b083c44fa43136605635af5c82e4cfe"
  },
  "kernelspec": {
   "display_name": "Python 3.10.2 64-bit (system)",
   "language": "python",
   "name": "python3"
  },
  "language_info": {
   "codemirror_mode": {
    "name": "ipython",
    "version": 3
   },
   "file_extension": ".py",
   "mimetype": "text/x-python",
   "name": "python",
   "nbconvert_exporter": "python",
   "pygments_lexer": "ipython3",
   "version": "3.10.2"
  },
  "orig_nbformat": 4
 },
 "nbformat": 4,
 "nbformat_minor": 2
}
