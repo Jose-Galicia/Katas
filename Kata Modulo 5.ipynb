{
 "cells": [
  {
   "cell_type": "code",
   "execution_count": 8,
   "metadata": {},
   "outputs": [
    {
     "name": "stdout",
     "output_type": "stream",
     "text": [
      "La distancia entre la tierra y jupiter en km es: 628949330\n",
      "La distancia entre la tierra y jupiter en milllas es: 390577534\n"
     ]
    }
   ],
   "source": [
    "#Actividad 1\n",
    "Dt= 149597870 #149,597,870 \n",
    "Dj=778547200 #778,547,200 \n",
    "dist= Dt-Dj\n",
    "print(f\"La distancia entre la tierra y jupiter en km es: \" + str(abs(dist)))\n",
    "print(f\"La distancia entre la tierra y jupiter en milllas es: \" + str(abs(round(dist*0.621))))"
   ]
  },
  {
   "cell_type": "code",
   "execution_count": null,
   "metadata": {},
   "outputs": [],
   "source": [
    "#Actividad 2\n",
    "P1= input(\"Cual es la distancia del planeta 1\")\n",
    "P2= input(\"Cual es la distancia del planeta 2\")\n",
    "r1= int(P1)-int(P2)\n",
    "texto=f\"\"\"La distancia entre planetas en Km es: {abs(r1)}     \n",
    "La distancia entre planetas en Millas es: {abs(r1*0.621)}\"\"\"\n",
    "#print(\"La distancia entre planetas es: \" + str(abs(r1)))   #Puede ser usado el str(), pero no es necesario ya que esta dentro de llaves\n",
    "print(texto)"
   ]
  }
 ],
 "metadata": {
  "interpreter": {
   "hash": "39e951a41283c3ee29b08a97914e717a8b083c44fa43136605635af5c82e4cfe"
  },
  "kernelspec": {
   "display_name": "Python 3.10.2 64-bit (system)",
   "language": "python",
   "name": "python3"
  },
  "language_info": {
   "codemirror_mode": {
    "name": "ipython",
    "version": 3
   },
   "file_extension": ".py",
   "mimetype": "text/x-python",
   "name": "python",
   "nbconvert_exporter": "python",
   "pygments_lexer": "ipython3",
   "version": "3.10.2"
  },
  "orig_nbformat": 4
 },
 "nbformat": 4,
 "nbformat_minor": 2
}
