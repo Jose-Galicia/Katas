{
 "cells": [
  {
   "cell_type": "markdown",
   "metadata": {},
   "source": [
    "##Kata modulo 3"
   ]
  },
  {
   "cell_type": "code",
   "execution_count": null,
   "metadata": {},
   "outputs": [],
   "source": [
    "#Actividad 1\n",
    "#Asteroide se acerca a la tierra a una velocidad de 49 km/s.\n",
    "\n",
    "va=int(input(\"Cual es la velocidad del asteroide: \")) #Velocidad actual\n",
    "vl=25                                                 #Velocidad limite\n",
    "if va <= vl:\n",
    "    print(\"No existe peligro, el asteroide tiene una velocidad de: \" + str(va) + \"km/s\")\n",
    "else:\n",
    "    print(\"Se acerca asteroide a velocidad alarmante,el asteroide tiene una velocidad de: \" + str(va) + \"km/s\")\n"
   ]
  },
  {
   "cell_type": "code",
   "execution_count": null,
   "metadata": {},
   "outputs": [],
   "source": [
    "#Actividad 2\n",
    "#Entro un asteroide a la atmosfera a velocidad de 19km/s.\n",
    "va=int(input(\"Cual es la velocidad del asteroide: \"))\n",
    "vl=20\n",
    "if va > vl:\n",
    "    print(\"Entro un asteroide a la tierra, se puede apreciar un destello de luz\")\n",
    "elif va == vl:\n",
    "    print(\"Entro un asteroide a la tierra, se puede apreciar un destello de luz\")\n",
    "else:\n",
    "    print(\"Entro un asteroide a la tierra, no se puede observar por su baja velocidad\")    "
   ]
  },
  {
   "cell_type": "code",
   "execution_count": null,
   "metadata": {},
   "outputs": [],
   "source": [
    "#Actividad 3\n",
    "#condiciones y operadores and,or.\n",
    "va=int(input(\"A que velocidad se acerca el asteroide a la tierra: \"))\n",
    "va2=int(input(\"A que velocidad entro a la atmosfera el asteroide: \"))\n",
    "ta=int(input(\"Cual es el tamaño del asteroide: \"))\n",
    "vL1=25\n",
    "vL2=20\n",
    "tl=25\n",
    "if va>=vL1 or ta>=tl:\n",
    "    print(\"Se acerca asteroide a la tierra con velocidad o tamaño alarmante\")\n",
    "elif va2>=vL2 and ta<=tl:\n",
    "    print(\"Entro asteroide a la atmosfera, se puede apreciar un destello de luz\")\n",
    "else:\n",
    "    print(\"Entro asteroide a la tierra, no se puede observar\")\n"
   ]
  }
 ],
 "metadata": {
  "interpreter": {
   "hash": "39e951a41283c3ee29b08a97914e717a8b083c44fa43136605635af5c82e4cfe"
  },
  "kernelspec": {
   "display_name": "Python 3.10.2 64-bit (system)",
   "language": "python",
   "name": "python3"
  },
  "language_info": {
   "codemirror_mode": {
    "name": "ipython",
    "version": 3
   },
   "file_extension": ".py",
   "mimetype": "text/x-python",
   "name": "python",
   "nbconvert_exporter": "python",
   "pygments_lexer": "ipython3",
   "version": "3.10.2"
  },
  "orig_nbformat": 4
 },
 "nbformat": 4,
 "nbformat_minor": 2
}
