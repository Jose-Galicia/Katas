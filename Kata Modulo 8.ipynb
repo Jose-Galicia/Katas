{
 "cells": [
  {
   "cell_type": "code",
   "execution_count": null,
   "metadata": {},
   "outputs": [],
   "source": [
    "#Actividad 1\n",
    "planet = {\n",
    "    'name': 'Marte',    #Cadena\n",
    "    'moons': 2          #Entero\n",
    "}\n",
    "print(f\"\"\"{planet['name']} tiene {planet['moons']} lunas\"\"\")\n",
    "\n",
    "planet.update({\n",
    "    'Circunferencia polar': 6752,\n",
    "    'Circunferencia Equatorial': 6792\n",
    "})\n",
    "for key in planet.keys():\n",
    "    print(f'{key}: {planet[key]}')\n",
    "    #keys da las variables y value da los valores de las variables"
   ]
  },
  {
   "cell_type": "code",
   "execution_count": 54,
   "metadata": {},
   "outputs": [
    {
     "name": "stdout",
     "output_type": "stream",
     "text": [
      "La cantidad de planetas en el sistema solar es:  12\n",
      "La suma de las lunas en el sistema solar es: 214\n"
     ]
    }
   ],
   "source": [
    "#Actividad 2\n",
    "planet_moons = {\n",
    "    'mercury': 0,\n",
    "    'venus': 0,\n",
    "    'earth': 1,\n",
    "    'mars': 2,\n",
    "    'jupiter': 79,\n",
    "    'saturn': 82,\n",
    "    'uranus': 27,\n",
    "    'neptune': 14,\n",
    "    'pluto': 5,\n",
    "    'haumea': 2,\n",
    "    'makemake': 1,\n",
    "    'eris': 1\n",
    "}\n",
    "lunassum=0\n",
    "planets=len(planet_moons.keys())\n",
    "print(\"La cantidad de planetas en el sistema solar es: \",planets)\n",
    "for value in planet_moons.values():\n",
    "    lunassum = lunassum + value\n",
    "print(f'La suma de las lunas en el sistema solar es: {lunassum}')\n"
   ]
  }
 ],
 "metadata": {
  "interpreter": {
   "hash": "39e951a41283c3ee29b08a97914e717a8b083c44fa43136605635af5c82e4cfe"
  },
  "kernelspec": {
   "display_name": "Python 3.10.2 64-bit (system)",
   "language": "python",
   "name": "python3"
  },
  "language_info": {
   "codemirror_mode": {
    "name": "ipython",
    "version": 3
   },
   "file_extension": ".py",
   "mimetype": "text/x-python",
   "name": "python",
   "nbconvert_exporter": "python",
   "pygments_lexer": "ipython3",
   "version": "3.10.2"
  },
  "orig_nbformat": 4
 },
 "nbformat": 4,
 "nbformat_minor": 2
}
