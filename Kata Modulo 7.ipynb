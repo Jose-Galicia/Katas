{
 "cells": [
  {
   "cell_type": "code",
   "execution_count": 19,
   "metadata": {},
   "outputs": [
    {
     "name": "stdout",
     "output_type": "stream",
     "text": [
      "Lista de planetas ingresados: \n",
      "['Mercurio', 'Tierra', 'Marte']\n"
     ]
    }
   ],
   "source": [
    "#Actividad 1\n",
    "new_planet=''\n",
    "planets=[]\n",
    "\n",
    "print(\"Lista de planetas ingresados: \")\n",
    "while new_planet.lower() != 'done':\n",
    "    if new_planet:                      #Verifica si el usuario ha introducido un valor\n",
    "        planets.append(new_planet)      #Agrega un valor a la lista planets\n",
    "    new_planet=input('Ingresa un dato') #Solicitamos al usuario que ingrese un valor \n",
    "print(planets)\n",
    "\n"
   ]
  },
  {
   "cell_type": "code",
   "execution_count": 21,
   "metadata": {},
   "outputs": [
    {
     "name": "stdout",
     "output_type": "stream",
     "text": [
      "Lista de planetas ingresados: \n",
      "1 Mercurio\n",
      "2 Tierra\n",
      "3 Marte\n"
     ]
    }
   ],
   "source": [
    "#Actividad 2\n",
    "print(\"Lista de planetas ingresados: \")\n",
    "for pi in range(len(planets)): #Crea una lista inmutable de numeros enteros de la cantidad de elementos en la lista\n",
    "    planeta=planets[pi]\n",
    "    print(pi+1,planeta )       #pi+1 porque la lista inicia en 0"
   ]
  }
 ],
 "metadata": {
  "interpreter": {
   "hash": "39e951a41283c3ee29b08a97914e717a8b083c44fa43136605635af5c82e4cfe"
  },
  "kernelspec": {
   "display_name": "Python 3.10.2 64-bit (system)",
   "language": "python",
   "name": "python3"
  },
  "language_info": {
   "codemirror_mode": {
    "name": "ipython",
    "version": 3
   },
   "file_extension": ".py",
   "mimetype": "text/x-python",
   "name": "python",
   "nbconvert_exporter": "python",
   "pygments_lexer": "ipython3",
   "version": "3.10.2"
  },
  "orig_nbformat": 4
 },
 "nbformat": 4,
 "nbformat_minor": 2
}
