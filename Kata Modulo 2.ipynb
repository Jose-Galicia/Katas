{
 "cells": [
  {
   "cell_type": "code",
   "execution_count": 3,
   "metadata": {},
   "outputs": [
    {
     "name": "stdout",
     "output_type": "stream",
     "text": [
      "2022-02-14 19:34:10.519391\n",
      "2022-03-21 10:34:10.519391\n"
     ]
    }
   ],
   "source": [
    "  #Uso del paquete instalado\n",
    "  \n",
    "  from datetime import *\n",
    "  from dateutil.relativedelta import *\n",
    "  now = datetime.now()\n",
    "  print(now)\n",
    "\n",
    "  now = now + relativedelta(months=1, weeks=1, hour=10)\n",
    "\n",
    "  print(now)"
   ]
  }
 ],
 "metadata": {
  "interpreter": {
   "hash": "39e951a41283c3ee29b08a97914e717a8b083c44fa43136605635af5c82e4cfe"
  },
  "kernelspec": {
   "display_name": "Python 3.10.2 64-bit (system)",
   "language": "python",
   "name": "python3"
  },
  "language_info": {
   "codemirror_mode": {
    "name": "ipython",
    "version": 3
   },
   "file_extension": ".py",
   "mimetype": "text/x-python",
   "name": "python",
   "nbconvert_exporter": "python",
   "pygments_lexer": "ipython3",
   "version": "3.10.2"
  },
  "orig_nbformat": 4
 },
 "nbformat": 4,
 "nbformat_minor": 2
}
